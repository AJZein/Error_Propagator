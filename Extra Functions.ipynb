{
 "cells": [
  {
   "cell_type": "code",
   "execution_count": null,
   "metadata": {
    "collapsed": true
   },
   "outputs": [],
   "source": [
    "import numpy as np\n",
    "from prettytable import PrettyTable\n",
    "\n",
    "\n",
    "def zero_fill(a, b):\n",
    "    \"\"\"Creates zero array like a and fills in b values\"\"\"\n",
    "    c = np.zeros_like(a, dtype=float)\n",
    "    for i in range(b.shape[0]):\n",
    "        for j in range(b.shape[1]):\n",
    "            c[i, j] = b[i, j]\n",
    "    return c\n",
    "            \n",
    "def replace_zero(a, b):\n",
    "    \"\"\"Replaces zeros in a with b, output is all strings\"\"\"\n",
    "    a = np.array(a, dtype=str)\n",
    "    for i in range(a.shape[0]):\n",
    "        for j in range(a.shape[1]):\n",
    "            if a[i, j] in [\"0.0\", \"0\"]:\n",
    "                a[i, j] = b\n",
    "    return a\n",
    "\n",
    "def nicetable_row(x, y, z = 0, col=0):\n",
    "    \"\"\"Takes data from rows (columns if col = 1) and puts them in \n",
    "    table rows. Row names in list y, column names in list z\"\"\"\n",
    "    \n",
    "    table = PrettyTable()\n",
    "    n = 0\n",
    "    if z:\n",
    "        table.field_names = [*z]\n",
    "    else:\n",
    "        table.header = false\n",
    "    while n != len(y):\n",
    "        if col:\n",
    "            data = x[:,n]\n",
    "        else:\n",
    "            data = x[n,:]\n",
    "        table.add_row([y[n], *data])\n",
    "        n += 1\n",
    "    print(table)\n",
    "    \n",
    "    \n",
    "def nicetable_column(x, y, col=0):\n",
    "    \"\"\"Takes data from rows (columns if col = 1) and puts them\n",
    "    in table columns with column headings from the list y\"\"\"\n",
    "    table = PrettyTable()\n",
    "    n = 0\n",
    "    if not col:\n",
    "        table.field_names = [*y]\n",
    "    while n != x.shape[1]:\n",
    "        data = x[:,n]\n",
    "        if col:\n",
    "            table.add_column(y[n], [*data])\n",
    "        else:\n",
    "            table.add_row([*data])\n",
    "        n += 1\n",
    "    print(table)    \n"
   ]
  }
 ],
 "metadata": {
  "anaconda-cloud": {},
  "kernelspec": {
   "display_name": "Python [conda root]",
   "language": "python",
   "name": "conda-root-py"
  },
  "language_info": {
   "codemirror_mode": {
    "name": "ipython",
    "version": 3
   },
   "file_extension": ".py",
   "mimetype": "text/x-python",
   "name": "python",
   "nbconvert_exporter": "python",
   "pygments_lexer": "ipython3",
   "version": "3.5.2"
  }
 },
 "nbformat": 4,
 "nbformat_minor": 1
}
