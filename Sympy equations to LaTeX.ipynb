{
 "cells": [
  {
   "cell_type": "code",
   "execution_count": 6,
   "metadata": {
    "collapsed": false
   },
   "outputs": [
    {
     "name": "stdout",
     "output_type": "stream",
     "text": [
      "Please type out your function here.\n",
      "I*sqrt(R**2 + w**2 * L**2)\n",
      "$i \\sqrt{L^{2} w^{2} + R^{2}}$\n",
      "$i \\sqrt{L^{2} w^{2} + R^{2}}$\n",
      "\\begin{equation}i \\sqrt{L^{2} w^{2} + R^{2}}\\end{equation}\n"
     ]
    }
   ],
   "source": [
    "import sympy as sp\n",
    "from sympy import init_printing, latex\n",
    "from sympy.parsing.sympy_parser import (parse_expr, standard_transformations, implicit_multiplication, \n",
    "                                        implicit_application, function_exponentiation, convert_xor, \n",
    "                                        _token_splittable, split_symbols_custom)\n",
    "\n",
    "def can_split(symbol):\n",
    "    \"\"\"Note, requires global variable named 'variables' to work\"\"\"\n",
    "    if symbol not in variables:\n",
    "        return _token_splittable(symbol)\n",
    "    return False\n",
    "\n",
    "init_printing()\n",
    "dont = split_symbols_custom(can_split)\n",
    "convert = standard_transformations + (dont, convert_xor, implicit_multiplication, \n",
    "                                      implicit_application, function_exponentiation,)\n",
    "\n",
    "variables = ['pi', 'f', 'V', 'I', 'R', 'w', 'L']\n",
    "function = input(\"Please type out your function here.\\n\")\n",
    "function = parse_expr(function, transformations=convert)\n",
    "print(latex(function, mode='inline'))\n",
    "print('$' + str(latex(function)) + '$' )\n",
    "print(latex(function, mode='equation'))"
   ]
  }
 ],
 "metadata": {
  "anaconda-cloud": {},
  "kernelspec": {
   "display_name": "Python [conda root]",
   "language": "python",
   "name": "conda-root-py"
  },
  "language_info": {
   "codemirror_mode": {
    "name": "ipython",
    "version": 3
   },
   "file_extension": ".py",
   "mimetype": "text/x-python",
   "name": "python",
   "nbconvert_exporter": "python",
   "pygments_lexer": "ipython3",
   "version": "3.5.2"
  }
 },
 "nbformat": 4,
 "nbformat_minor": 1
}
